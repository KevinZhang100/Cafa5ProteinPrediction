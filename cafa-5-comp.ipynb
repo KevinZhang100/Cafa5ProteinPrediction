{
 "cells": [
  {
   "cell_type": "code",
   "execution_count": 1,
   "id": "f3e780ef",
   "metadata": {
    "_cell_guid": "b1076dfc-b9ad-4769-8c92-a6c4dae69d19",
    "_uuid": "8f2839f25d086af736a60e9eeb907d3b93b6e0e5",
    "execution": {
     "iopub.execute_input": "2023-07-15T14:05:07.174998Z",
     "iopub.status.busy": "2023-07-15T14:05:07.174549Z",
     "iopub.status.idle": "2023-07-15T14:05:17.609358Z",
     "shell.execute_reply": "2023-07-15T14:05:17.608136Z"
    },
    "papermill": {
     "duration": 10.44185,
     "end_time": "2023-07-15T14:05:17.611234",
     "exception": false,
     "start_time": "2023-07-15T14:05:07.169384",
     "status": "completed"
    },
    "tags": []
   },
   "outputs": [
    {
     "name": "stderr",
     "output_type": "stream",
     "text": [
      "/opt/conda/lib/python3.10/site-packages/tensorflow_io/python/ops/__init__.py:98: UserWarning: unable to load libtensorflow_io_plugins.so: unable to open file: libtensorflow_io_plugins.so, from paths: ['/opt/conda/lib/python3.10/site-packages/tensorflow_io/python/ops/libtensorflow_io_plugins.so']\n",
      "caused by: ['/opt/conda/lib/python3.10/site-packages/tensorflow_io/python/ops/libtensorflow_io_plugins.so: undefined symbol: _ZN3tsl6StatusC1EN10tensorflow5error4CodeESt17basic_string_viewIcSt11char_traitsIcEENS_14SourceLocationE']\n",
      "  warnings.warn(f\"unable to load libtensorflow_io_plugins.so: {e}\")\n",
      "/opt/conda/lib/python3.10/site-packages/tensorflow_io/python/ops/__init__.py:104: UserWarning: file system plugins are not loaded: unable to open file: libtensorflow_io.so, from paths: ['/opt/conda/lib/python3.10/site-packages/tensorflow_io/python/ops/libtensorflow_io.so']\n",
      "caused by: ['/opt/conda/lib/python3.10/site-packages/tensorflow_io/python/ops/libtensorflow_io.so: undefined symbol: _ZTVN10tensorflow13GcsFileSystemE']\n",
      "  warnings.warn(f\"file system plugins are not loaded: {e}\")\n"
     ]
    },
    {
     "name": "stdout",
     "output_type": "stream",
     "text": [
      "/kaggle/input/cafa-5-ems-2-embeddings-numpy/train_ids.npy\n",
      "/kaggle/input/cafa-5-ems-2-embeddings-numpy/train_embeddings.npy\n",
      "/kaggle/input/cafa-5-ems-2-embeddings-numpy/test_ids.npy\n",
      "/kaggle/input/cafa-5-ems-2-embeddings-numpy/test_embeddings.npy\n",
      "/kaggle/input/cafa-5-protein-function-prediction/sample_submission.tsv\n",
      "/kaggle/input/cafa-5-protein-function-prediction/IA.txt\n",
      "/kaggle/input/cafa-5-protein-function-prediction/Test (Targets)/testsuperset.fasta\n",
      "/kaggle/input/cafa-5-protein-function-prediction/Test (Targets)/testsuperset-taxon-list.tsv\n",
      "/kaggle/input/cafa-5-protein-function-prediction/Train/train_terms.tsv\n",
      "/kaggle/input/cafa-5-protein-function-prediction/Train/train_sequences.fasta\n",
      "/kaggle/input/cafa-5-protein-function-prediction/Train/train_taxonomy.tsv\n",
      "/kaggle/input/cafa-5-protein-function-prediction/Train/go-basic.obo\n"
     ]
    },
    {
     "data": {
      "text/plain": [
       "0"
      ]
     },
     "execution_count": 1,
     "metadata": {},
     "output_type": "execute_result"
    }
   ],
   "source": [
    "import numpy as np\n",
    "import gc\n",
    "import pandas as pd\n",
    "import tensorflow as tf\n",
    "from keras import layers\n",
    "from keras import Input, Model\n",
    "from keras.callbacks import EarlyStopping\n",
    "from sklearn.model_selection import train_test_split\n",
    "import progressbar\n",
    "\n",
    "# Input data files are available in the read-only \"../input/\" directory\n",
    "# For example, running this (by clicking run or pressing Shift+Enter) will list all files under the input directory\n",
    "\n",
    "import os\n",
    "for dirname, _, filenames in os.walk('/kaggle/input'):\n",
    "    for filename in filenames:\n",
    "        print(os.path.join(dirname, filename))\n",
    "\n",
    "gc.collect()"
   ]
  },
  {
   "cell_type": "code",
   "execution_count": 2,
   "id": "7d023d3d",
   "metadata": {
    "execution": {
     "iopub.execute_input": "2023-07-15T14:05:17.619731Z",
     "iopub.status.busy": "2023-07-15T14:05:17.618874Z",
     "iopub.status.idle": "2023-07-15T14:05:20.214813Z",
     "shell.execute_reply": "2023-07-15T14:05:20.213511Z"
    },
    "papermill": {
     "duration": 2.602032,
     "end_time": "2023-07-15T14:05:20.216768",
     "exception": false,
     "start_time": "2023-07-15T14:05:17.614736",
     "status": "completed"
    },
    "tags": []
   },
   "outputs": [
    {
     "name": "stdout",
     "output_type": "stream",
     "text": [
      "(5363863, 3)\n"
     ]
    },
    {
     "data": {
      "text/html": [
       "<div>\n",
       "<style scoped>\n",
       "    .dataframe tbody tr th:only-of-type {\n",
       "        vertical-align: middle;\n",
       "    }\n",
       "\n",
       "    .dataframe tbody tr th {\n",
       "        vertical-align: top;\n",
       "    }\n",
       "\n",
       "    .dataframe thead th {\n",
       "        text-align: right;\n",
       "    }\n",
       "</style>\n",
       "<table border=\"1\" class=\"dataframe\">\n",
       "  <thead>\n",
       "    <tr style=\"text-align: right;\">\n",
       "      <th></th>\n",
       "      <th>EntryID</th>\n",
       "      <th>term</th>\n",
       "      <th>aspect</th>\n",
       "    </tr>\n",
       "  </thead>\n",
       "  <tbody>\n",
       "    <tr>\n",
       "      <th>0</th>\n",
       "      <td>A0A009IHW8</td>\n",
       "      <td>GO:0008152</td>\n",
       "      <td>BPO</td>\n",
       "    </tr>\n",
       "    <tr>\n",
       "      <th>1</th>\n",
       "      <td>A0A009IHW8</td>\n",
       "      <td>GO:0034655</td>\n",
       "      <td>BPO</td>\n",
       "    </tr>\n",
       "    <tr>\n",
       "      <th>2</th>\n",
       "      <td>A0A009IHW8</td>\n",
       "      <td>GO:0072523</td>\n",
       "      <td>BPO</td>\n",
       "    </tr>\n",
       "    <tr>\n",
       "      <th>3</th>\n",
       "      <td>A0A009IHW8</td>\n",
       "      <td>GO:0044270</td>\n",
       "      <td>BPO</td>\n",
       "    </tr>\n",
       "    <tr>\n",
       "      <th>4</th>\n",
       "      <td>A0A009IHW8</td>\n",
       "      <td>GO:0006753</td>\n",
       "      <td>BPO</td>\n",
       "    </tr>\n",
       "  </tbody>\n",
       "</table>\n",
       "</div>"
      ],
      "text/plain": [
       "      EntryID        term aspect\n",
       "0  A0A009IHW8  GO:0008152    BPO\n",
       "1  A0A009IHW8  GO:0034655    BPO\n",
       "2  A0A009IHW8  GO:0072523    BPO\n",
       "3  A0A009IHW8  GO:0044270    BPO\n",
       "4  A0A009IHW8  GO:0006753    BPO"
      ]
     },
     "execution_count": 2,
     "metadata": {},
     "output_type": "execute_result"
    }
   ],
   "source": [
    "train_terms = pd.read_csv(\"/kaggle/input/cafa-5-protein-function-prediction/Train/train_terms.tsv\",sep=\"\\t\")\n",
    "print(train_terms.shape)\n",
    "train_terms.head(5)"
   ]
  },
  {
   "cell_type": "code",
   "execution_count": 3,
   "id": "d143fd6b",
   "metadata": {
    "execution": {
     "iopub.execute_input": "2023-07-15T14:05:20.225521Z",
     "iopub.status.busy": "2023-07-15T14:05:20.225226Z",
     "iopub.status.idle": "2023-07-15T14:05:28.140727Z",
     "shell.execute_reply": "2023-07-15T14:05:28.139335Z"
    },
    "papermill": {
     "duration": 7.922439,
     "end_time": "2023-07-15T14:05:28.142996",
     "exception": false,
     "start_time": "2023-07-15T14:05:20.220557",
     "status": "completed"
    },
    "tags": []
   },
   "outputs": [
    {
     "name": "stdout",
     "output_type": "stream",
     "text": [
      "(142246, 1280)\n"
     ]
    }
   ],
   "source": [
    "train_protein_ids = np.load('/kaggle/input/cafa-5-ems-2-embeddings-numpy/train_ids.npy')\n",
    "train_embeddings = np.load('/kaggle/input/cafa-5-ems-2-embeddings-numpy/train_embeddings.npy')\n",
    "\n",
    "column_num = train_embeddings.shape[1]\n",
    "train_data = pd.DataFrame(train_embeddings, columns = [\"Column_\" + str(i) for i in range(1, column_num+1)])\n",
    "print(train_data.shape)"
   ]
  },
  {
   "cell_type": "code",
   "execution_count": 4,
   "id": "336f0bed",
   "metadata": {
    "execution": {
     "iopub.execute_input": "2023-07-15T14:05:28.152267Z",
     "iopub.status.busy": "2023-07-15T14:05:28.151459Z",
     "iopub.status.idle": "2023-07-15T14:05:29.281069Z",
     "shell.execute_reply": "2023-07-15T14:05:29.279685Z"
    },
    "papermill": {
     "duration": 1.136835,
     "end_time": "2023-07-15T14:05:29.283627",
     "exception": false,
     "start_time": "2023-07-15T14:05:28.146792",
     "status": "completed"
    },
    "tags": []
   },
   "outputs": [
    {
     "name": "stdout",
     "output_type": "stream",
     "text": [
      "aspect\n",
      "BPO    21285\n",
      "CCO     2957\n",
      "MFO     7224\n",
      "Name: term, dtype: int64\n"
     ]
    }
   ],
   "source": [
    "terms = train_terms.groupby(['aspect', 'term'])['term'].count().reset_index(name='frequency')\n",
    "print(terms.groupby('aspect')['term'].nunique())\n",
    "\n",
    "V = {}\n",
    "V['BPO'] = 450\n",
    "V['CCO'] = 150\n",
    "V['MFO'] = 200"
   ]
  },
  {
   "cell_type": "code",
   "execution_count": 5,
   "id": "aec5aa26",
   "metadata": {
    "execution": {
     "iopub.execute_input": "2023-07-15T14:05:29.292963Z",
     "iopub.status.busy": "2023-07-15T14:05:29.292646Z",
     "iopub.status.idle": "2023-07-15T14:05:29.317681Z",
     "shell.execute_reply": "2023-07-15T14:05:29.316493Z"
    },
    "papermill": {
     "duration": 0.031787,
     "end_time": "2023-07-15T14:05:29.319528",
     "exception": false,
     "start_time": "2023-07-15T14:05:29.287741",
     "status": "completed"
    },
    "tags": []
   },
   "outputs": [
    {
     "name": "stdout",
     "output_type": "stream",
     "text": [
      "800\n"
     ]
    }
   ],
   "source": [
    "selected_terms = []\n",
    "for aspect in ['BPO', 'CCO', 'MFO']:\n",
    "    selection = terms.loc[(terms.aspect == aspect)]\n",
    "    selection = selection.nlargest(V[aspect], columns='frequency', keep='first')\n",
    "    selected_terms += selection.term.to_list()\n",
    "selected_terms = set(selected_terms)\n",
    "labels = list(selected_terms)\n",
    "print(len(labels))"
   ]
  },
  {
   "cell_type": "code",
   "execution_count": 6,
   "id": "ca8e5c07",
   "metadata": {
    "execution": {
     "iopub.execute_input": "2023-07-15T14:05:29.328700Z",
     "iopub.status.busy": "2023-07-15T14:05:29.328378Z",
     "iopub.status.idle": "2023-07-15T14:10:02.243703Z",
     "shell.execute_reply": "2023-07-15T14:10:02.242752Z"
    },
    "papermill": {
     "duration": 272.922086,
     "end_time": "2023-07-15T14:10:02.245587",
     "exception": false,
     "start_time": "2023-07-15T14:05:29.323501",
     "status": "completed"
    },
    "tags": []
   },
   "outputs": [
    {
     "name": "stdout",
     "output_type": "stream",
     "text": [
      "(142246, 800) (142246,)\n"
     ]
    },
    {
     "name": "stderr",
     "output_type": "stream",
     "text": [
      "100%                                                                           \n"
     ]
    },
    {
     "name": "stdout",
     "output_type": "stream",
     "text": [
      "(142246, 800)\n"
     ]
    }
   ],
   "source": [
    "bar = progressbar.ProgressBar(maxval=800, widgets=[progressbar.Percentage()])\n",
    "\n",
    "train_size = train_protein_ids.shape[0]\n",
    "train_labels = np.zeros((train_size ,800))\n",
    "\n",
    "print(train_labels.shape, train_protein_ids.shape)\n",
    "\n",
    "# Convert from numpy to pandas series for better handling\n",
    "series_train_protein_ids = pd.Series(train_protein_ids)\n",
    "\n",
    "for i in range(800):\n",
    "    n_train_terms = train_terms[train_terms['term'] ==  labels[i]]\n",
    "    \n",
    "    label_related_proteins = n_train_terms['EntryID'].unique()\n",
    "    \n",
    "    # Replace the ith column of train_Y with with that pandas series.\n",
    "    train_labels[:,i] =  series_train_protein_ids.isin(label_related_proteins).astype(float)\n",
    "    bar.update(i+1)\n",
    "    \n",
    "bar.finish()\n",
    "\n",
    "labels_df = pd.DataFrame(data = train_labels, columns = labels)\n",
    "print(labels_df.shape)"
   ]
  },
  {
   "cell_type": "code",
   "execution_count": 7,
   "id": "a9b4fc97",
   "metadata": {
    "execution": {
     "iopub.execute_input": "2023-07-15T14:10:02.263831Z",
     "iopub.status.busy": "2023-07-15T14:10:02.263469Z",
     "iopub.status.idle": "2023-07-15T14:10:02.375539Z",
     "shell.execute_reply": "2023-07-15T14:10:02.374046Z"
    },
    "papermill": {
     "duration": 0.124062,
     "end_time": "2023-07-15T14:10:02.378052",
     "exception": false,
     "start_time": "2023-07-15T14:10:02.253990",
     "status": "completed"
    },
    "tags": []
   },
   "outputs": [
    {
     "name": "stdout",
     "output_type": "stream",
     "text": [
      "(142246, 1280) (142246, 800)\n"
     ]
    }
   ],
   "source": [
    "train_data = train_data.loc[labels_df.index]\n",
    "print(train_data.shape, labels_df.shape)"
   ]
  },
  {
   "cell_type": "code",
   "execution_count": 8,
   "id": "360ecba9",
   "metadata": {
    "execution": {
     "iopub.execute_input": "2023-07-15T14:10:02.396778Z",
     "iopub.status.busy": "2023-07-15T14:10:02.396448Z",
     "iopub.status.idle": "2023-07-15T14:10:02.709165Z",
     "shell.execute_reply": "2023-07-15T14:10:02.708065Z"
    },
    "papermill": {
     "duration": 0.324693,
     "end_time": "2023-07-15T14:10:02.711447",
     "exception": false,
     "start_time": "2023-07-15T14:10:02.386754",
     "status": "completed"
    },
    "tags": []
   },
   "outputs": [],
   "source": [
    "x_train, x_val, y_train, y_val = train_test_split(train_data, labels_df, test_size=0.2, random_state=42)"
   ]
  },
  {
   "cell_type": "code",
   "execution_count": 9,
   "id": "13daa98e",
   "metadata": {
    "execution": {
     "iopub.execute_input": "2023-07-15T14:10:02.730590Z",
     "iopub.status.busy": "2023-07-15T14:10:02.730271Z",
     "iopub.status.idle": "2023-07-15T14:10:03.035063Z",
     "shell.execute_reply": "2023-07-15T14:10:03.033888Z"
    },
    "papermill": {
     "duration": 0.318739,
     "end_time": "2023-07-15T14:10:03.039068",
     "exception": false,
     "start_time": "2023-07-15T14:10:02.720329",
     "status": "completed"
    },
    "tags": []
   },
   "outputs": [
    {
     "name": "stdout",
     "output_type": "stream",
     "text": [
      "Model: \"model\"\n",
      "_________________________________________________________________\n",
      " Layer (type)                Output Shape              Param #   \n",
      "=================================================================\n",
      " input_1 (InputLayer)        [(None, 1280)]            0         \n",
      "                                                                 \n",
      " batch_normalization (BatchN  (None, 1280)             5120      \n",
      " ormalization)                                                   \n",
      "                                                                 \n",
      " gaussian_noise (GaussianNoi  (None, 1280)             0         \n",
      " se)                                                             \n",
      "                                                                 \n",
      " dense (Dense)               (None, 832)               1065792   \n",
      "                                                                 \n",
      " batch_normalization_1 (Batc  (None, 832)              3328      \n",
      " hNormalization)                                                 \n",
      "                                                                 \n",
      " dropout (Dropout)           (None, 832)               0         \n",
      "                                                                 \n",
      " dense_1 (Dense)             (None, 960)               799680    \n",
      "                                                                 \n",
      " batch_normalization_2 (Batc  (None, 960)              3840      \n",
      " hNormalization)                                                 \n",
      "                                                                 \n",
      " dropout_1 (Dropout)         (None, 960)               0         \n",
      "                                                                 \n",
      " dense_2 (Dense)             (None, 800)               768800    \n",
      "                                                                 \n",
      "=================================================================\n",
      "Total params: 2,646,560\n",
      "Trainable params: 2,640,416\n",
      "Non-trainable params: 6,144\n",
      "_________________________________________________________________\n"
     ]
    }
   ],
   "source": [
    "input_shape = [train_data.shape[1]]\n",
    "batch_size = 256\n",
    "\n",
    "inputs = Input(shape=(*input_shape,))\n",
    "\n",
    "x = layers.BatchNormalization()(inputs)\n",
    "x = layers.GaussianNoise(stddev=0.1)(x)\n",
    "\n",
    "x = layers.Dense(units=832, activation='swish')(x)\n",
    "x = layers.BatchNormalization()(x)\n",
    "x = layers.Dropout(0.3)(x)\n",
    "\n",
    "x = layers.Dense(units=960, activation='swish')(x)\n",
    "x = layers.BatchNormalization()(x)\n",
    "x = layers.Dropout(0.3)(x)\n",
    "\n",
    "outputs = layers.Dense(units=800,activation='sigmoid')(x)\n",
    "\n",
    "model = Model(inputs=inputs, outputs=outputs)\n",
    "\n",
    "loss = tf.keras.losses.BinaryCrossentropy()\n",
    "\n",
    "model.compile(\n",
    "    optimizer=tf.keras.optimizers.Adam(learning_rate=0.001),\n",
    "    loss=loss,\n",
    "    metrics=[tf.keras.metrics.Recall(), tf.keras.metrics.Precision()],\n",
    ")\n",
    "\n",
    "model.summary()\n",
    "\n",
    "early_stopping = EarlyStopping(patience=10, min_delta=0.0001, restore_best_weights=True, monitor='val_loss')\n",
    "callbacks = [early_stopping]"
   ]
  },
  {
   "cell_type": "code",
   "execution_count": 10,
   "id": "fd0fdec8",
   "metadata": {
    "execution": {
     "iopub.execute_input": "2023-07-15T14:10:03.061018Z",
     "iopub.status.busy": "2023-07-15T14:10:03.060676Z",
     "iopub.status.idle": "2023-07-15T14:27:27.327952Z",
     "shell.execute_reply": "2023-07-15T14:27:27.326524Z"
    },
    "papermill": {
     "duration": 1044.281081,
     "end_time": "2023-07-15T14:27:27.330415",
     "exception": false,
     "start_time": "2023-07-15T14:10:03.049334",
     "status": "completed"
    },
    "tags": []
   },
   "outputs": [
    {
     "name": "stdout",
     "output_type": "stream",
     "text": [
      "Epoch 1/40\n",
      "445/445 [==============================] - 26s 55ms/step - loss: 0.1925 - recall: 0.2091 - precision: 0.1414 - val_loss: 0.1063 - val_recall: 0.1511 - val_precision: 0.6390\n",
      "Epoch 2/40\n",
      "445/445 [==============================] - 24s 54ms/step - loss: 0.1037 - recall: 0.2055 - precision: 0.5914 - val_loss: 0.0986 - val_recall: 0.2119 - val_precision: 0.6347\n",
      "Epoch 3/40\n",
      "445/445 [==============================] - 25s 57ms/step - loss: 0.0994 - recall: 0.2206 - precision: 0.6084 - val_loss: 0.0958 - val_recall: 0.1994 - val_precision: 0.6551\n",
      "Epoch 4/40\n",
      "445/445 [==============================] - 25s 55ms/step - loss: 0.0961 - recall: 0.2304 - precision: 0.6224 - val_loss: 0.0945 - val_recall: 0.2142 - val_precision: 0.6550\n",
      "Epoch 5/40\n",
      "445/445 [==============================] - 24s 55ms/step - loss: 0.0942 - recall: 0.2406 - precision: 0.6295 - val_loss: 0.0931 - val_recall: 0.2143 - val_precision: 0.6603\n",
      "Epoch 6/40\n",
      "445/445 [==============================] - 25s 56ms/step - loss: 0.0928 - recall: 0.2483 - precision: 0.6339 - val_loss: 0.0919 - val_recall: 0.2244 - val_precision: 0.6619\n",
      "Epoch 7/40\n",
      "445/445 [==============================] - 24s 55ms/step - loss: 0.0918 - recall: 0.2557 - precision: 0.6376 - val_loss: 0.0914 - val_recall: 0.2510 - val_precision: 0.6464\n",
      "Epoch 8/40\n",
      "445/445 [==============================] - 24s 55ms/step - loss: 0.0906 - recall: 0.2635 - precision: 0.6412 - val_loss: 0.0911 - val_recall: 0.2760 - val_precision: 0.6325\n",
      "Epoch 9/40\n",
      "445/445 [==============================] - 24s 55ms/step - loss: 0.0896 - recall: 0.2699 - precision: 0.6444 - val_loss: 0.0906 - val_recall: 0.2483 - val_precision: 0.6536\n",
      "Epoch 10/40\n",
      "445/445 [==============================] - 24s 54ms/step - loss: 0.0886 - recall: 0.2767 - precision: 0.6492 - val_loss: 0.0897 - val_recall: 0.2761 - val_precision: 0.6356\n",
      "Epoch 11/40\n",
      "445/445 [==============================] - 25s 56ms/step - loss: 0.0877 - recall: 0.2825 - precision: 0.6515 - val_loss: 0.0891 - val_recall: 0.2679 - val_precision: 0.6476\n",
      "Epoch 12/40\n",
      "445/445 [==============================] - 24s 55ms/step - loss: 0.0867 - recall: 0.2894 - precision: 0.6558 - val_loss: 0.0888 - val_recall: 0.2580 - val_precision: 0.6628\n",
      "Epoch 13/40\n",
      "445/445 [==============================] - 24s 54ms/step - loss: 0.0859 - recall: 0.2949 - precision: 0.6588 - val_loss: 0.0885 - val_recall: 0.2664 - val_precision: 0.6548\n",
      "Epoch 14/40\n",
      "445/445 [==============================] - 24s 54ms/step - loss: 0.0851 - recall: 0.3007 - precision: 0.6625 - val_loss: 0.0881 - val_recall: 0.2689 - val_precision: 0.6576\n",
      "Epoch 15/40\n",
      "445/445 [==============================] - 24s 54ms/step - loss: 0.0845 - recall: 0.3056 - precision: 0.6640 - val_loss: 0.0877 - val_recall: 0.2786 - val_precision: 0.6549\n",
      "Epoch 16/40\n",
      "445/445 [==============================] - 25s 57ms/step - loss: 0.0837 - recall: 0.3103 - precision: 0.6662 - val_loss: 0.0875 - val_recall: 0.2631 - val_precision: 0.6693\n",
      "Epoch 17/40\n",
      "445/445 [==============================] - 25s 56ms/step - loss: 0.0829 - recall: 0.3169 - precision: 0.6704 - val_loss: 0.0874 - val_recall: 0.2787 - val_precision: 0.6590\n",
      "Epoch 18/40\n",
      "445/445 [==============================] - 26s 58ms/step - loss: 0.0824 - recall: 0.3210 - precision: 0.6727 - val_loss: 0.0871 - val_recall: 0.2887 - val_precision: 0.6515\n",
      "Epoch 19/40\n",
      "445/445 [==============================] - 24s 55ms/step - loss: 0.0818 - recall: 0.3254 - precision: 0.6737 - val_loss: 0.0869 - val_recall: 0.3018 - val_precision: 0.6450\n",
      "Epoch 20/40\n",
      "445/445 [==============================] - 24s 55ms/step - loss: 0.0811 - recall: 0.3310 - precision: 0.6765 - val_loss: 0.0869 - val_recall: 0.2758 - val_precision: 0.6654\n",
      "Epoch 21/40\n",
      "445/445 [==============================] - 24s 54ms/step - loss: 0.0806 - recall: 0.3351 - precision: 0.6793 - val_loss: 0.0865 - val_recall: 0.3039 - val_precision: 0.6486\n",
      "Epoch 22/40\n",
      "445/445 [==============================] - 25s 55ms/step - loss: 0.0800 - recall: 0.3402 - precision: 0.6814 - val_loss: 0.0864 - val_recall: 0.2899 - val_precision: 0.6597\n",
      "Epoch 23/40\n",
      "445/445 [==============================] - 25s 56ms/step - loss: 0.0795 - recall: 0.3428 - precision: 0.6828 - val_loss: 0.0863 - val_recall: 0.3006 - val_precision: 0.6523\n",
      "Epoch 24/40\n",
      "445/445 [==============================] - 24s 54ms/step - loss: 0.0790 - recall: 0.3475 - precision: 0.6851 - val_loss: 0.0863 - val_recall: 0.2886 - val_precision: 0.6646\n",
      "Epoch 25/40\n",
      "445/445 [==============================] - 25s 56ms/step - loss: 0.0785 - recall: 0.3517 - precision: 0.6881 - val_loss: 0.0860 - val_recall: 0.3038 - val_precision: 0.6562\n",
      "Epoch 26/40\n",
      "445/445 [==============================] - 25s 56ms/step - loss: 0.0781 - recall: 0.3553 - precision: 0.6893 - val_loss: 0.0860 - val_recall: 0.3020 - val_precision: 0.6559\n",
      "Epoch 27/40\n",
      "445/445 [==============================] - 26s 57ms/step - loss: 0.0777 - recall: 0.3582 - precision: 0.6898 - val_loss: 0.0859 - val_recall: 0.3011 - val_precision: 0.6602\n",
      "Epoch 28/40\n",
      "445/445 [==============================] - 24s 55ms/step - loss: 0.0773 - recall: 0.3626 - precision: 0.6923 - val_loss: 0.0857 - val_recall: 0.3069 - val_precision: 0.6581\n",
      "Epoch 29/40\n",
      "445/445 [==============================] - 24s 55ms/step - loss: 0.0770 - recall: 0.3646 - precision: 0.6933 - val_loss: 0.0857 - val_recall: 0.2983 - val_precision: 0.6658\n",
      "Epoch 30/40\n",
      "445/445 [==============================] - 25s 56ms/step - loss: 0.0765 - recall: 0.3686 - precision: 0.6956 - val_loss: 0.0858 - val_recall: 0.3016 - val_precision: 0.6637\n",
      "Epoch 31/40\n",
      "445/445 [==============================] - 25s 57ms/step - loss: 0.0762 - recall: 0.3708 - precision: 0.6960 - val_loss: 0.0855 - val_recall: 0.3070 - val_precision: 0.6620\n",
      "Epoch 32/40\n",
      "445/445 [==============================] - 25s 57ms/step - loss: 0.0759 - recall: 0.3734 - precision: 0.6981 - val_loss: 0.0857 - val_recall: 0.3354 - val_precision: 0.6408\n",
      "Epoch 33/40\n",
      "445/445 [==============================] - 25s 55ms/step - loss: 0.0756 - recall: 0.3764 - precision: 0.6992 - val_loss: 0.0856 - val_recall: 0.3138 - val_precision: 0.6578\n",
      "Epoch 34/40\n",
      "445/445 [==============================] - 25s 57ms/step - loss: 0.0752 - recall: 0.3792 - precision: 0.7002 - val_loss: 0.0855 - val_recall: 0.3214 - val_precision: 0.6543\n",
      "Epoch 35/40\n",
      "445/445 [==============================] - 24s 55ms/step - loss: 0.0749 - recall: 0.3817 - precision: 0.7012 - val_loss: 0.0857 - val_recall: 0.3031 - val_precision: 0.6690\n",
      "Epoch 36/40\n",
      "445/445 [==============================] - 24s 55ms/step - loss: 0.0746 - recall: 0.3846 - precision: 0.7031 - val_loss: 0.0855 - val_recall: 0.3187 - val_precision: 0.6575\n",
      "Epoch 37/40\n",
      "445/445 [==============================] - 25s 56ms/step - loss: 0.0744 - recall: 0.3868 - precision: 0.7037 - val_loss: 0.0854 - val_recall: 0.3222 - val_precision: 0.6567\n",
      "Epoch 38/40\n",
      "445/445 [==============================] - 25s 55ms/step - loss: 0.0741 - recall: 0.3893 - precision: 0.7048 - val_loss: 0.0854 - val_recall: 0.3154 - val_precision: 0.6593\n",
      "Epoch 39/40\n",
      "445/445 [==============================] - 24s 54ms/step - loss: 0.0740 - recall: 0.3908 - precision: 0.7054 - val_loss: 0.0856 - val_recall: 0.2982 - val_precision: 0.6749\n",
      "Epoch 40/40\n",
      "445/445 [==============================] - 24s 55ms/step - loss: 0.0736 - recall: 0.3926 - precision: 0.7076 - val_loss: 0.0853 - val_recall: 0.3159 - val_precision: 0.6637\n"
     ]
    }
   ],
   "source": [
    "history = model.fit(\n",
    "    x_train, y_train,\n",
    "    validation_data=(x_val, y_val),\n",
    "    batch_size=batch_size,\n",
    "    epochs=40,\n",
    "    callbacks = callbacks\n",
    ")"
   ]
  },
  {
   "cell_type": "code",
   "execution_count": 11,
   "id": "02bf026a",
   "metadata": {
    "execution": {
     "iopub.execute_input": "2023-07-15T14:27:28.905912Z",
     "iopub.status.busy": "2023-07-15T14:27:28.905584Z",
     "iopub.status.idle": "2023-07-15T14:28:01.605033Z",
     "shell.execute_reply": "2023-07-15T14:28:01.603746Z"
    },
    "papermill": {
     "duration": 33.460122,
     "end_time": "2023-07-15T14:28:01.607472",
     "exception": false,
     "start_time": "2023-07-15T14:27:28.147350",
     "status": "completed"
    },
    "tags": []
   },
   "outputs": [
    {
     "name": "stdout",
     "output_type": "stream",
     "text": [
      "4434/4434 [==============================] - 25s 6ms/step\n"
     ]
    }
   ],
   "source": [
    "test_df = np.load('/kaggle/input/cafa-5-ems-2-embeddings-numpy/test_embeddings.npy')\n",
    "test_protein_ids = np.load('/kaggle/input/cafa-5-ems-2-embeddings-numpy/test_ids.npy')\n",
    "\n",
    "predictions = model.predict(test_df)"
   ]
  },
  {
   "cell_type": "code",
   "execution_count": 12,
   "id": "a7b8863b",
   "metadata": {
    "execution": {
     "iopub.execute_input": "2023-07-15T14:28:03.228287Z",
     "iopub.status.busy": "2023-07-15T14:28:03.227980Z",
     "iopub.status.idle": "2023-07-15T14:28:43.764685Z",
     "shell.execute_reply": "2023-07-15T14:28:43.763745Z"
    },
    "papermill": {
     "duration": 41.315118,
     "end_time": "2023-07-15T14:28:43.767104",
     "exception": false,
     "start_time": "2023-07-15T14:28:02.451986",
     "status": "completed"
    },
    "tags": []
   },
   "outputs": [
    {
     "name": "stdout",
     "output_type": "stream",
     "text": [
      "processing 29 chunks of 5000 predictions each\n",
      "processing chunk range(0, 5000)\n",
      "processing chunk range(5000, 10000)\n",
      "processing chunk range(10000, 15000)\n",
      "processing chunk range(15000, 20000)\n",
      "processing chunk range(20000, 25000)\n",
      "processing chunk range(25000, 30000)\n",
      "processing chunk range(30000, 35000)\n",
      "processing chunk range(35000, 40000)\n",
      "processing chunk range(40000, 45000)\n",
      "processing chunk range(45000, 50000)\n",
      "processing chunk range(50000, 55000)\n",
      "processing chunk range(55000, 60000)\n",
      "processing chunk range(60000, 65000)\n",
      "processing chunk range(65000, 70000)\n",
      "processing chunk range(70000, 75000)\n",
      "processing chunk range(75000, 80000)\n",
      "processing chunk range(80000, 85000)\n",
      "processing chunk range(85000, 90000)\n",
      "processing chunk range(90000, 95000)\n",
      "processing chunk range(95000, 100000)\n",
      "processing chunk range(100000, 105000)\n",
      "processing chunk range(105000, 110000)\n",
      "processing chunk range(110000, 115000)\n",
      "processing chunk range(115000, 120000)\n",
      "processing chunk range(120000, 125000)\n",
      "processing chunk range(125000, 130000)\n",
      "processing chunk range(130000, 135000)\n",
      "processing chunk range(135000, 140000)\n",
      "processing chunk range(140000, 141864)\n"
     ]
    },
    {
     "data": {
      "text/html": [
       "<div>\n",
       "<style scoped>\n",
       "    .dataframe tbody tr th:only-of-type {\n",
       "        vertical-align: middle;\n",
       "    }\n",
       "\n",
       "    .dataframe tbody tr th {\n",
       "        vertical-align: top;\n",
       "    }\n",
       "\n",
       "    .dataframe thead th {\n",
       "        text-align: right;\n",
       "    }\n",
       "</style>\n",
       "<table border=\"1\" class=\"dataframe\">\n",
       "  <thead>\n",
       "    <tr style=\"text-align: right;\">\n",
       "      <th></th>\n",
       "      <th>level_0</th>\n",
       "      <th>level_1</th>\n",
       "      <th>prediction</th>\n",
       "    </tr>\n",
       "  </thead>\n",
       "  <tbody>\n",
       "    <tr>\n",
       "      <th>0</th>\n",
       "      <td>Q9ZSA8</td>\n",
       "      <td>GO:0005737</td>\n",
       "      <td>0.132585</td>\n",
       "    </tr>\n",
       "    <tr>\n",
       "      <th>1</th>\n",
       "      <td>Q9ZSA8</td>\n",
       "      <td>GO:0002831</td>\n",
       "      <td>0.137478</td>\n",
       "    </tr>\n",
       "    <tr>\n",
       "      <th>2</th>\n",
       "      <td>Q9ZSA8</td>\n",
       "      <td>GO:0031669</td>\n",
       "      <td>0.005618</td>\n",
       "    </tr>\n",
       "    <tr>\n",
       "      <th>3</th>\n",
       "      <td>Q9ZSA8</td>\n",
       "      <td>GO:0051171</td>\n",
       "      <td>0.000754</td>\n",
       "    </tr>\n",
       "    <tr>\n",
       "      <th>4</th>\n",
       "      <td>Q9ZSA8</td>\n",
       "      <td>GO:1901564</td>\n",
       "      <td>0.139190</td>\n",
       "    </tr>\n",
       "  </tbody>\n",
       "</table>\n",
       "</div>"
      ],
      "text/plain": [
       "  level_0     level_1  prediction\n",
       "0  Q9ZSA8  GO:0005737    0.132585\n",
       "1  Q9ZSA8  GO:0002831    0.137478\n",
       "2  Q9ZSA8  GO:0031669    0.005618\n",
       "3  Q9ZSA8  GO:0051171    0.000754\n",
       "4  Q9ZSA8  GO:1901564    0.139190"
      ]
     },
     "execution_count": 12,
     "metadata": {},
     "output_type": "execute_result"
    }
   ],
   "source": [
    "chunk_size = 5_000\n",
    "chunks = [range(i, min(i + chunk_size, len(predictions))) for i in range(0, len(predictions), chunk_size)]\n",
    "\n",
    "final_sub = pd.DataFrame()\n",
    "\n",
    "print(f\"processing {len(chunks)} chunks of {chunk_size} predictions each\")\n",
    "\n",
    "for chunk in chunks:\n",
    "    print(f\"processing chunk {chunk}\")\n",
    "    sub = pd.DataFrame(data=predictions[chunk], columns=list(selected_terms), index=test_protein_ids[chunk])\n",
    "    sub = sub.T.unstack().reset_index(name='prediction')\n",
    "    final_sub = pd.concat([final_sub, sub])\n",
    "\n",
    "final_sub.head()"
   ]
  },
  {
   "cell_type": "code",
   "execution_count": 13,
   "id": "56ba65e5",
   "metadata": {
    "execution": {
     "iopub.execute_input": "2023-07-15T14:28:45.469350Z",
     "iopub.status.busy": "2023-07-15T14:28:45.468763Z",
     "iopub.status.idle": "2023-07-15T14:32:20.786816Z",
     "shell.execute_reply": "2023-07-15T14:32:20.784957Z"
    },
    "papermill": {
     "duration": 216.160615,
     "end_time": "2023-07-15T14:32:20.791409",
     "exception": false,
     "start_time": "2023-07-15T14:28:44.630794",
     "status": "completed"
    },
    "tags": []
   },
   "outputs": [],
   "source": [
    "final_sub.to_csv('submission.tsv', sep='\\t', index=False, header=False)"
   ]
  },
  {
   "cell_type": "code",
   "execution_count": 14,
   "id": "bb1d7bfe",
   "metadata": {
    "execution": {
     "iopub.execute_input": "2023-07-15T14:32:22.480112Z",
     "iopub.status.busy": "2023-07-15T14:32:22.479177Z",
     "iopub.status.idle": "2023-07-15T14:32:22.485177Z",
     "shell.execute_reply": "2023-07-15T14:32:22.484488Z"
    },
    "papermill": {
     "duration": 0.888741,
     "end_time": "2023-07-15T14:32:22.486814",
     "exception": false,
     "start_time": "2023-07-15T14:32:21.598073",
     "status": "completed"
    },
    "tags": []
   },
   "outputs": [],
   "source": [
    "# #hyperparameter searching\n",
    "# from hyperopt import hp, fmin, tpe, Trials\n",
    "\n",
    "# input_shape = [train_data.shape[1]]\n",
    "# batch_size = 256\n",
    "\n",
    "# space = {\n",
    "#     #'stddev': hp.uniform('stddev', 0.05, 0.3),\n",
    "#     'unit1': hp.quniform('unit1', 512, 2048, 64),\n",
    "#     'unit2': hp.quniform('unit2', 256, 1024, 64),\n",
    "#     #'dropout1': hp.uniform('dropout1', 0.05, 0.7),\n",
    "#     #'dropout2': hp.uniform('dropout2', 0.05, 0.7),\n",
    "#     #'learning_rate': hp.uniform('learning_rate', 0.0001, 0.1)\n",
    "# }\n",
    "\n",
    "# def objective(p):\n",
    "#     inputs = Input(shape=(*input_shape,))\n",
    "    \n",
    "#     x = layers.BatchNormalization()(inputs)\n",
    "#     x = layers.GaussianNoise(stddev=0.1)(x)\n",
    "    \n",
    "#     x = layers.Dense(units=p['unit1'], activation='swish')(x)\n",
    "#     x = layers.BatchNormalization()(x)\n",
    "#     x = layers.Dropout(0.3)(x)\n",
    "    \n",
    "#     x = layers.Dense(units=p['unit2'], activation='swish')(x)\n",
    "#     x = layers.BatchNormalization()(x)\n",
    "#     x = layers.Dropout(0.3)(x)\n",
    "    \n",
    "#     outputs = layers.Dense(units=800, activation='sigmoid')(x)\n",
    "    \n",
    "#     model = Model(inputs=inputs, outputs=outputs)\n",
    "    \n",
    "#     loss = tf.keras.losses.BinaryCrossentropy()\n",
    "    \n",
    "#     optimizer = tf.keras.optimizers.Adam(learning_rate=0.001)\n",
    "    \n",
    "#     model.compile(optimizer=optimizer, loss=loss,\n",
    "#                   metrics=[tf.keras.metrics.Recall(), tf.keras.metrics.Precision()])\n",
    "\n",
    "#     early_stopping = EarlyStopping(patience=10, min_delta=0.0001, restore_best_weights=True, monitor='val_loss')\n",
    "#     callbacks = [early_stopping]\n",
    "\n",
    "#     model.fit(\n",
    "#         x_train, y_train,\n",
    "#         validation_data=(x_val, y_val),\n",
    "#         batch_size=batch_size,\n",
    "#         epochs=50,\n",
    "#         callbacks = callbacks\n",
    "#     )\n",
    "    \n",
    "#     loss = model.evaluate(x_val, y_val)[0]\n",
    "    \n",
    "#     return loss\n",
    "\n",
    "# trials = Trials()\n",
    "# best = fmin(objective, space, algo=tpe.suggest, max_evals=20, trials=trials, verbose=False)"
   ]
  },
  {
   "cell_type": "code",
   "execution_count": 15,
   "id": "667d0727",
   "metadata": {
    "execution": {
     "iopub.execute_input": "2023-07-15T14:32:24.149216Z",
     "iopub.status.busy": "2023-07-15T14:32:24.148811Z",
     "iopub.status.idle": "2023-07-15T14:32:24.153984Z",
     "shell.execute_reply": "2023-07-15T14:32:24.152649Z"
    },
    "papermill": {
     "duration": 0.886226,
     "end_time": "2023-07-15T14:32:24.156443",
     "exception": false,
     "start_time": "2023-07-15T14:32:23.270217",
     "status": "completed"
    },
    "tags": []
   },
   "outputs": [],
   "source": [
    "# best_params = trials.best_trial['misc']['vals']\n",
    "# print(\"Best hyperparameter values:\", best_params)"
   ]
  }
 ],
 "metadata": {
  "kernelspec": {
   "display_name": "Python 3",
   "language": "python",
   "name": "python3"
  },
  "language_info": {
   "codemirror_mode": {
    "name": "ipython",
    "version": 3
   },
   "file_extension": ".py",
   "mimetype": "text/x-python",
   "name": "python",
   "nbconvert_exporter": "python",
   "pygments_lexer": "ipython3",
   "version": "3.10.10"
  },
  "papermill": {
   "default_parameters": {},
   "duration": 1650.808713,
   "end_time": "2023-07-15T14:32:27.555653",
   "environment_variables": {},
   "exception": null,
   "input_path": "__notebook__.ipynb",
   "output_path": "__notebook__.ipynb",
   "parameters": {},
   "start_time": "2023-07-15T14:04:56.746940",
   "version": "2.4.0"
  }
 },
 "nbformat": 4,
 "nbformat_minor": 5
}
